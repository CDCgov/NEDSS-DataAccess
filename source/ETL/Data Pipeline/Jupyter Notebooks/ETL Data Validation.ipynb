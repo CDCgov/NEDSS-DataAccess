{
 "cells": [
  {
   "cell_type": "markdown",
   "id": "a4401042",
   "metadata": {},
   "source": [
    "# Data Validation\n",
    "\n",
    "Compare data updated using the classic and modern pipeline. The current scope of validation is to ensure completeness and integrity. "
   ]
  },
  {
   "cell_type": "code",
   "execution_count": 6,
   "id": "c0b43b1a",
   "metadata": {},
   "outputs": [],
   "source": [
    "import pandas as pd\n",
    "import numpy as np\n",
    "import dataframe_image as dfi\n",
    "import pyodbc\n",
    "from sqlalchemy.engine import URL\n",
    "import sqlalchemy as sa"
   ]
  },
  {
   "cell_type": "code",
   "execution_count": 38,
   "id": "4f0c5bcc",
   "metadata": {},
   "outputs": [],
   "source": [
    "host = #Provide host\n",
    "user = #Provide username\n",
    "password = #Provide password\n",
    "database = 'rdb_modern'"
   ]
  },
  {
   "cell_type": "code",
   "execution_count": 8,
   "id": "090a1861",
   "metadata": {},
   "outputs": [],
   "source": [
    "#SQLACLHEMY\n",
    "connection_string = \"DRIVER={ODBC Driver 17 for SQL Server};SERVER=\"+host+\";DATABASE=\"+database+\";UID=\"+user+\";PWD=\"+password\n",
    "connection_url = URL.create(\"mssql+pyodbc\", query={\"odbc_connect\": connection_string})\n",
    "from sqlalchemy import create_engine\n",
    "engine = create_engine(connection_url)"
   ]
  },
  {
   "cell_type": "code",
   "execution_count": 9,
   "id": "f1e7446a",
   "metadata": {},
   "outputs": [],
   "source": [
    "with engine.begin() as conn:\n",
    "    sql_rdb_mod = pd.read_sql_query(sa.text(\"Select * from rdb_modern.dbo.HEPATITIS_DATAMART hd where hd.PATIENT_UID  = '101831376'\"), conn)\n",
    "    sql_rdb = pd.read_sql_query(sa.text(\"Select * from rdb.dbo.HEPATITIS_DATAMART hd where hd.PATIENT_UID  = '101831376'\"), conn)\n"
   ]
  },
  {
   "cell_type": "markdown",
   "id": "91bbe040",
   "metadata": {},
   "source": [
    "# Highlight Dataframe"
   ]
  },
  {
   "cell_type": "code",
   "execution_count": 10,
   "id": "621460e3",
   "metadata": {},
   "outputs": [],
   "source": [
    "df_combine = pd.concat([sql_rdb, sql_rdb_mod], axis='columns', keys=['Q1', 'Q2'])"
   ]
  },
  {
   "cell_type": "code",
   "execution_count": 11,
   "id": "9c3537a1",
   "metadata": {},
   "outputs": [],
   "source": [
    "df_axis= df_combine.swaplevel(axis='columns')[sql_rdb.columns[1:]]"
   ]
  },
  {
   "cell_type": "code",
   "execution_count": 2,
   "id": "fb8565eb",
   "metadata": {},
   "outputs": [],
   "source": [
    "df_axis"
   ]
  },
  {
   "cell_type": "code",
   "execution_count": 12,
   "id": "c6c8e45d",
   "metadata": {},
   "outputs": [],
   "source": [
    "df_axis.fillna('NAN', inplace=True)"
   ]
  },
  {
   "cell_type": "code",
   "execution_count": 13,
   "id": "abebfeaf",
   "metadata": {
    "scrolled": true
   },
   "outputs": [],
   "source": [
    "def highlight_id(data, color='yellow'):\n",
    "    attr = 'background-color: {}'.format(color)\n",
    "    other = data.xs('Q1', axis='columns', level=-1)\n",
    "    df = pd.DataFrame(np.where((data.ne(other, level=0)), attr, ''),\n",
    "                        index=data.index, columns=data.columns)\n",
    "    df = df[df.apply(lambda row: row.astype(str).str.contains('background-color: yellow', case=False).any(), axis=1)]\n",
    "    id_list = df.index.get_level_values(0).to_list()\n",
    "\n",
    "    return id_list\n",
    "\n",
    "id_l = highlight_id(df_axis)\n",
    "df = df_axis[df_axis.index.get_level_values(0).isin(id_l)]\n",
    "\n",
    "df"
   ]
  },
  {
   "cell_type": "code",
   "execution_count": 14,
   "id": "469d6741",
   "metadata": {
    "scrolled": false
   },
   "outputs": [],
   "source": [
    "def highlight_diff(data, color='yellow'):\n",
    "    attr = 'background-color: {}'.format(color)\n",
    "    other = data.xs('Q1', axis='columns', level=-1)\n",
    "    df = pd.DataFrame(np.where((data.ne(other, level=0)), attr, ''),\n",
    "                        index=data.index, columns=data.columns)\n",
    "    df = df[df.apply(lambda row: row.astype(str).str.contains('background-color: yellow', case=False).any(), axis=1)]\n",
    "\n",
    "    return df\n",
    "\n",
    "df.style.apply(highlight_diff, axis=None)"
   ]
  },
  {
   "cell_type": "markdown",
   "id": "e36cc201",
   "metadata": {},
   "source": [
    "# Column View"
   ]
  },
  {
   "cell_type": "markdown",
   "id": "be6f68c3",
   "metadata": {},
   "source": [
    "View the only the differences side by side. \n",
    "Identify differences between two pandas DataFrames"
   ]
  },
  {
   "cell_type": "code",
   "execution_count": 24,
   "id": "0472cae8",
   "metadata": {},
   "outputs": [],
   "source": [
    "def diff_func(df1, df2):\n",
    "    assert (df1.columns == df2.columns).all(), \\\n",
    "        \"DataFrame column names are different\"\n",
    "    if any(df1.dtypes != df2.dtypes):\n",
    "        \"Data Types are different, trying to convert\"\n",
    "        df2 = df2.astype(df1.dtypes)\n",
    "    if df1.equals(df2):\n",
    "        return None\n",
    "    else:\n",
    "        diff_mask = (df1 != df2) & ~(df1.isnull() & df2.isnull())\n",
    "        ne_stacked = diff_mask.stack()\n",
    "        changed = ne_stacked[ne_stacked]\n",
    "        changed.index.names = ['ID', 'Column']\n",
    "        difference_locations = np.where(diff_mask)\n",
    "        dataset_1 = df1.values[difference_locations]\n",
    "        dataset_2 = df2.values[difference_locations]\n",
    "        return pd.DataFrame({'rdb': dataset_1, 'rdb_modern': dataset_2},\n",
    "                            index=changed.index)"
   ]
  },
  {
   "cell_type": "code",
   "execution_count": 25,
   "id": "fcdd2d59",
   "metadata": {},
   "outputs": [],
   "source": [
    "df = diff_func(sql_rdb, sql_rdb_mod)"
   ]
  },
  {
   "cell_type": "code",
   "execution_count": 15,
   "id": "2d2271ea",
   "metadata": {},
   "outputs": [],
   "source": [
    "len(df)"
   ]
  },
  {
   "cell_type": "code",
   "execution_count": 23,
   "id": "c7fcde07",
   "metadata": {},
   "outputs": [
    {
     "name": "stdout",
     "output_type": "stream",
     "text": [
      "                                                 rdb                  rdb_modern\n",
      "ID Column                                                                       \n",
      "0  HEP_MEDS_RECVD_IND                        Unknown                        None\n",
      "   CNTRY_USUAL_RESIDENCE               UNITED STATES                        None\n",
      "   HEP_CONTACT_IND                           Unknown                        None\n",
      "   HEP_CONTACT_EVER_IND                      Unknown                        None\n",
      "   STREET_DRUG_INJECTED                      Unknown                        None\n",
      "   STREET_DRUG_USED                          Unknown                        None\n",
      "   SEX_PREF                                  Unknown                        None\n",
      "   INV_CASE_STATUS                        Not a Case                    Probable\n",
      "   HCV_RNA                                  Positive                        None\n",
      "   HCV_RNA_DT                             2021-01-03                        None\n",
      "   PREV_NEG_HEP_TEST_IND                         Yes                        None\n",
      "   VERIFIED_TEST_DT                       2020-12-30                        None\n",
      "   PAT_DOB                       1965-02-11 00:00:00         1963-02-11 00:00:00\n",
      "   BLD_EXPOSURE_IND                          Unknown                        None\n",
      "   BLD_RECVD_IND                             Unknown                        None\n",
      "   MED_DEN_EMPLOYEE_IND                      Unknown                        None\n",
      "   MED_DEN_EMP_EVER_IND                      Unknown                        None\n",
      "   CLOTFACTOR_PRIOR_1987                     Unknown                        None\n",
      "   BLD_CONTAM_IND                            Unknown                        None\n",
      "   DEN_WORK_OR_SURG_IND                      Unknown                        None\n",
      "   HEMODIALYSIS_IND                          Unknown                        None\n",
      "   LT_HEMODIALYSIS_IND                       Unknown                        None\n",
      "   HSPTL_PRIOR_ONSET_IND                     Unknown                        None\n",
      "   INCAR_24PLUSHRS_IND                       Unknown                        None\n",
      "   INCAR_6PLUS_MO_IND                        Unknown                        None\n",
      "   EVER_INCAR_IND                            Unknown                        None\n",
      "   OUTPAT_IV_INF_IND                         Unknown                        None\n",
      "   LTCARE_RESIDENT_IND                       Unknown                        None\n",
      "   PIERC_PRIOR_ONSET_IND                     Unknown                        None\n",
      "   PUB_SAFETY_WORKER_IND                     Unknown                        None\n",
      "   STD_TREATED_IND                           Unknown                        None\n",
      "   NON_ORAL_SURGERY_IND                      Unknown                        None\n",
      "   TATT_PRIOR_ONSET_IND                      Unknown                        None\n",
      "   BLD_TRANSF_PRIOR_1992                     Unknown                        None\n",
      "   ORGN_TRNSP_PRIOR_1992                     Unknown                        None\n",
      "   REFRESH_DATETIME       2024-01-08 13:33:53.710000  2024-01-15 17:22:37.130000\n"
     ]
    }
   ],
   "source": [
    "print(df.to_string())"
   ]
  },
  {
   "cell_type": "code",
   "execution_count": 69,
   "id": "de001276",
   "metadata": {},
   "outputs": [],
   "source": [
    "##Print log file "
   ]
  },
  {
   "cell_type": "markdown",
   "id": "ce9f6cde",
   "metadata": {},
   "source": [
    "## Case 2: New UIDs\n",
    "### TODO: UIDs that have been introduced by ELR. Not ingested by classic pipeline yet. "
   ]
  },
  {
   "cell_type": "code",
   "execution_count": null,
   "id": "6a144797",
   "metadata": {},
   "outputs": [],
   "source": []
  }
 ],
 "metadata": {
  "kernelspec": {
   "display_name": "Python 3 (ipykernel)",
   "language": "python",
   "name": "python3"
  },
  "language_info": {
   "codemirror_mode": {
    "name": "ipython",
    "version": 3
   },
   "file_extension": ".py",
   "mimetype": "text/x-python",
   "name": "python",
   "nbconvert_exporter": "python",
   "pygments_lexer": "ipython3",
   "version": "3.11.3"
  }
 },
 "nbformat": 4,
 "nbformat_minor": 5
}
